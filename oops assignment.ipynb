{
 "cells": [
  {
   "cell_type": "markdown",
   "metadata": {},
   "source": [
    "1. What are the five key concepts of Object-Oriented Programming (OOP)?\n",
    "Answer:\n",
    "The five key concepts of OOP are:\n",
    "\n",
    "Encapsulation:\n",
    "\n",
    "The bundling of data (attributes) and methods (functions) that operate on the data into a single unit or class.\n",
    "Access to data is controlled using access modifiers like private, protected, and public.\n",
    "Inheritance:\n",
    "\n",
    "A mechanism where one class (child or subclass) can inherit attributes and methods from another class (parent or superclass).\n",
    "Promotes code reuse and establishes a hierarchy between classes.\n",
    "Polymorphism:\n",
    "\n",
    "The ability of a single interface to represent different types or classes.\n",
    "Achieved through method overriding, operator overloading, or interfaces.\n",
    "Abstraction:\n",
    "\n",
    "Hiding implementation details and exposing only the essential features of an object.\n",
    "Accomplished using abstract classes or interfaces.\n",
    "Message Passing:\n",
    "\n",
    "Objects communicate with one another by sending and receiving information, typically by invoking methods."
   ]
  },
  {
   "cell_type": "code",
   "execution_count": 7,
   "metadata": {},
   "outputs": [
    {
     "name": "stdout",
     "output_type": "stream",
     "text": [
      "Car Info: 2019 Hyundai Verna\n"
     ]
    }
   ],
   "source": [
    "# 2. Write a Python class for a Car with attributes for make, model, and year. Include a method to display the car's information.\n",
    "# Answer:\n",
    "\n",
    "class Car:\n",
    "    def __init__(self, make, model, year):\n",
    "        self.make = make\n",
    "        self.model = model\n",
    "        self.year = year\n",
    "\n",
    "    def display_info(self):\n",
    "        print(f\"Car Info: {self.year} {self.make} {self.model}\")\n",
    "\n",
    "        \n",
    "our_car = Car(\"Hyundai\", \"Verna\", 2019)\n",
    "our_car.display_info()"
   ]
  },
  {
   "cell_type": "code",
   "execution_count": 8,
   "metadata": {},
   "outputs": [
    {
     "name": "stdout",
     "output_type": "stream",
     "text": [
      "Instance method called. Value is 10\n",
      "Class method called. Count is 0\n"
     ]
    }
   ],
   "source": [
    "#3. Explain the difference between instance methods and class methods. Provide an example of each.\n",
    "#Answer:\n",
    "#Instance Methods:\n",
    "\n",
    "#Operate on instances of the class.\n",
    "#Require access to instance-specific data and use self as their first parameter.\n",
    "#Class Methods:\n",
    "\n",
    "#Operate on the class itself rather than instances.\n",
    "#Use cls as their first parameter and are defined with the @classmethod decorator.\n",
    "#Example:\n",
    "\n",
    "class Example:\n",
    "    count = 0  # this is class attribute \n",
    "\n",
    "    def __init__(self, value):\n",
    "        self.value = value  # this is Instance attribute\n",
    "\n",
    "    def instance_method(self):\n",
    "        return f\"Instance method called. Value is {self.value}\"\n",
    "\n",
    "    @classmethod\n",
    "    def class_method(cls):\n",
    "        return f\"Class method called. Count is {cls.count}\"\n",
    "\n",
    "#example of each\n",
    "\n",
    "obj = Example(10)\n",
    "print(obj.instance_method()) \n",
    "print(Example.class_method()) "
   ]
  },
  {
   "cell_type": "code",
   "execution_count": 9,
   "metadata": {},
   "outputs": [
    {
     "name": "stdout",
     "output_type": "stream",
     "text": [
      "Method with no arguments\n",
      "Method with one argument: 5\n",
      "Method with two arguments: 5, 10\n"
     ]
    }
   ],
   "source": [
    "#4. How does Python implement method overloading? Give an example.\n",
    "#Answer:\n",
    "#Python does not support method overloading in the traditional sense.\n",
    "#it handles it by using default arguments or variable-length arguments (*args, **kwargs).\n",
    "\n",
    "#Example:\n",
    "\n",
    "class Example:\n",
    "    def method(self, a=None, b=None):\n",
    "        if a is not None and b is not None:\n",
    "            return f\"Method with two arguments: {a}, {b}\"\n",
    "        elif a is not None:\n",
    "            return f\"Method with one argument: {a}\"\n",
    "        else:\n",
    "            return \"Method with no arguments\"\n",
    "\n",
    "obj = Example()\n",
    "print(obj.method())\n",
    "print(obj.method(5))\n",
    "print(obj.method(5, 10))"
   ]
  },
  {
   "cell_type": "markdown",
   "metadata": {},
   "source": [
    "5. What are the three types of access modifiers in Python? How are they denoted?\n",
    "Answer:\n",
    "Public:\n",
    "\n",
    "Accessible from anywhere.\n",
    "Denoted by no prefix (e.g., attribute).\n",
    "Protected:\n",
    "\n",
    "Accessible within the class and its subclasses.\n",
    "Denoted by a single underscore prefix (e.g., _attribute).\n",
    "Private:\n",
    "\n",
    "Accessible only within the class.\n",
    "Denoted by a double underscore prefix (e.g., __attribute)."
   ]
  },
  {
   "cell_type": "code",
   "execution_count": 10,
   "metadata": {},
   "outputs": [
    {
     "name": "stdout",
     "output_type": "stream",
     "text": [
      "Method from class A\n",
      "Method from class B\n",
      "Method from class C\n"
     ]
    }
   ],
   "source": [
    "#6. Describe the five types of inheritance in Python. Provide a simple example of multiple inheritance.\n",
    "#Answer:\n",
    "#The five types of inheritance in Python are:\n",
    "\n",
    "#Single Inheritance:\n",
    "\n",
    "#A child class inherits from a single parent class.\n",
    "\n",
    "class Parent:\n",
    "    def method(self):\n",
    "        print(\"Parent method\")\n",
    "\n",
    "class Child(Parent):\n",
    "    pass\n",
    "\n",
    "#Multiple Inheritance:\n",
    "\n",
    "#A child class inherits from multiple parent classes.\n",
    "\n",
    "class Parent1:\n",
    "    def method1(self):\n",
    "        print(\"Parent1 method\")\n",
    "\n",
    "class Parent2:\n",
    "    def method2(self):\n",
    "        print(\"Parent2 method\")\n",
    "\n",
    "class Child(Parent1, Parent2):\n",
    "    pass\n",
    "\n",
    "#Multilevel Inheritance:\n",
    "\n",
    "#A chain of inheritance where a class is derived from a child class.\n",
    "\n",
    "class Grandparent:\n",
    "    def method(self):\n",
    "        print(\"Grandparent method\")\n",
    "\n",
    "class Parent(Grandparent):\n",
    "    pass\n",
    "\n",
    "class Child(Parent):\n",
    "    pass\n",
    "#Hierarchical Inheritance:\n",
    "\n",
    "#Multiple child classes inherit from a single parent class.\n",
    "\n",
    "class Parent:\n",
    "    def method(self):\n",
    "        print(\"Parent method\")\n",
    "\n",
    "class Child1(Parent):\n",
    "    pass\n",
    "\n",
    "class Child2(Parent):\n",
    "    pass\n",
    "#Hybrid Inheritance:\n",
    "\n",
    "#A combination of multiple and hierarchical inheritance.\n",
    "\n",
    "class Base:\n",
    "    def method(self):\n",
    "        print(\"Base method\")\n",
    "\n",
    "class Parent1(Base):\n",
    "    pass\n",
    "\n",
    "class Parent2(Base):\n",
    "    pass\n",
    "\n",
    "class Child(Parent1, Parent2):\n",
    "    pass\n",
    "#Example of Multiple Inheritance:\n",
    "class A:\n",
    "    def method_a(self):\n",
    "        print(\"Method from class A\")\n",
    "        \n",
    "class B:\n",
    "    def method_b(self):\n",
    "        print(\"Method from class B\")\n",
    "        \n",
    "class C(A, B):\n",
    "    def method_c(self):\n",
    "        print(\"Method from class C\")\n",
    "\n",
    "obj = C()\n",
    "obj.method_a()\n",
    "obj.method_b()\n",
    "obj.method_c()"
   ]
  },
  {
   "cell_type": "code",
   "execution_count": 11,
   "metadata": {},
   "outputs": [
    {
     "name": "stdout",
     "output_type": "stream",
     "text": [
      "[<class '__main__.C'>, <class '__main__.B'>, <class '__main__.A'>, <class 'object'>]\n",
      "(<class '__main__.C'>, <class '__main__.B'>, <class '__main__.A'>, <class 'object'>)\n"
     ]
    }
   ],
   "source": [
    "#7. What is the Method Resolution Order (MRO) in Python? How can you retrieve it programmatically?\n",
    "#Answer:\n",
    "#The Method Resolution Order (MRO) is the order in which Python looks for a method in a hierarchy of classes during inheritance. Python follows the C3 Linearization algorithm for MRO.\n",
    "#To retrieve the MRO programmatically, use the mro() method or the __mro__ attribute.\n",
    "#Example:\n",
    "\n",
    "class A:\n",
    "    pass\n",
    "\n",
    "class B(A):\n",
    "    pass\n",
    "\n",
    "class C(B):\n",
    "    pass\n",
    "\n",
    "print(C.mro()) \n",
    "print(C.__mro__)"
   ]
  },
  {
   "cell_type": "code",
   "execution_count": 30,
   "metadata": {},
   "outputs": [
    {
     "name": "stdout",
     "output_type": "stream",
     "text": [
      "Circle area: 27157.860000000004\n",
      "Rectangle area: 1080\n"
     ]
    }
   ],
   "source": [
    "#8. Create an abstract base class Shape with an abstract method area(). Then create two subclasses Circle and Rectangle that implement the area() method.\n",
    "#Answer:\n",
    "\n",
    "from abc import ABC, abstractmethod\n",
    "\n",
    "class Shape(ABC):\n",
    "    @abstractmethod\n",
    "    def area(self):\n",
    "        pass\n",
    "\n",
    "class Circle(Shape):\n",
    "    def __init__(self, radius):\n",
    "        self.radius = radius\n",
    "\n",
    "    def area(self):\n",
    "        return 3.14 * self.radius * self.radius\n",
    "\n",
    "class Rectangle(Shape):\n",
    "    def __init__(self, length, width):\n",
    "        self.length = length\n",
    "        self.width = width\n",
    "\n",
    "    def area(self):\n",
    "        return self.length * self.width\n",
    "\n",
    "# usage example :\n",
    "circle = Circle(93)\n",
    "rectangle = Rectangle(20, 54)\n",
    "\n",
    "print(f\"Circle area: {circle.area()}\")\n",
    "print(f\"Rectangle area: {rectangle.area()}\")"
   ]
  },
  {
   "cell_type": "code",
   "execution_count": 31,
   "metadata": {},
   "outputs": [
    {
     "name": "stdout",
     "output_type": "stream",
     "text": [
      "The area is: 78.5\n",
      "The area is: 24\n"
     ]
    }
   ],
   "source": [
    "#9. Demonstrate polymorphism by creating a function that can work with different shape objects to calculate and print their areas.\n",
    "#Answer:\n",
    "\n",
    "def print_area(shape):\n",
    "    print(f\"The area is: {shape.area()}\")\n",
    "\n",
    "# Example usage:\n",
    "new_circle = Circle(5)\n",
    "new_rectangle = Rectangle(4, 6)\n",
    "\n",
    "print_area(new_circle)\n",
    "print_area(new_rectangle)\n"
   ]
  },
  {
   "cell_type": "code",
   "execution_count": 32,
   "metadata": {},
   "outputs": [
    {
     "name": "stdout",
     "output_type": "stream",
     "text": [
      "Deposited: 50\n",
      "Withdrawn: 30\n",
      "Current Balance: 120\n"
     ]
    }
   ],
   "source": [
    "#10. Implement encapsulation in a BankAccount class with private attributes for balance and account_number. Include methods for deposit, withdrawal, and balance inquiry.\n",
    "#Answer:\n",
    "\n",
    "class BankAccount:\n",
    "    def __init__(self, account_number, balance=0):\n",
    "        self.__account_number = account_number  # Private attribute\n",
    "        self.__balance = balance  # Private attribute\n",
    "\n",
    "    def deposit(self, amount):\n",
    "        if amount > 0:\n",
    "            self.__balance += amount\n",
    "            print(f\"Deposited: {amount}\")\n",
    "        else:\n",
    "            print(\"Invalid deposit amount\")\n",
    "\n",
    "    def withdraw(self, amount):\n",
    "        if 0 < amount <= self.__balance:\n",
    "            self.__balance -= amount\n",
    "            print(f\"Withdrawn: {amount}\")\n",
    "        else:\n",
    "            print(\"Invalid or insufficient balance\")\n",
    "\n",
    "    def get_balance(self):\n",
    "        return self.__balance\n",
    "\n",
    "# Example usage:\n",
    "account = BankAccount(\"12345\", 100)\n",
    "account.deposit(50)\n",
    "account.withdraw(30)\n",
    "print(f\"Current Balance: {account.get_balance()}\")"
   ]
  },
  {
   "cell_type": "code",
   "execution_count": 33,
   "metadata": {},
   "outputs": [
    {
     "name": "stdout",
     "output_type": "stream",
     "text": [
      "CustomNumber(10)\n",
      "CustomNumber(30)\n"
     ]
    }
   ],
   "source": [
    "#11. Write a class that overrides the __str__ and __add__ magic methods. What will these methods allow you to do?\n",
    "#Answer:\n",
    "#__str__: Allows customization of the string representation of an object (e.g., when using print() or str()).\n",
    "#__add__: Allows customization of the addition operator (+) for objects of the class.\n",
    "\n",
    "#Implementation:\n",
    "\n",
    "class CustomNumber:\n",
    "    def __init__(self, value):\n",
    "        self.value = value\n",
    "\n",
    "    def __str__(self):\n",
    "        return f\"CustomNumber({self.value})\"\n",
    "\n",
    "    def __add__(self, other):\n",
    "        if isinstance(other, CustomNumber):\n",
    "            return CustomNumber(self.value + other.value)\n",
    "        return NotImplemented\n",
    "\n",
    "# Example usage:\n",
    "num1 = CustomNumber(10)\n",
    "num2 = CustomNumber(20)\n",
    "\n",
    "print(num1)  # Output: CustomNumber(10)\n",
    "print(num1 + num2)  # Output: CustomNumber(30)"
   ]
  },
  {
   "cell_type": "code",
   "execution_count": 34,
   "metadata": {},
   "outputs": [
    {
     "name": "stdout",
     "output_type": "stream",
     "text": [
      "Function executed\n",
      "Execution time: 2.0004 seconds\n"
     ]
    }
   ],
   "source": [
    "#12. Create a decorator that measures and prints the execution time of a function.\n",
    "#Answer:\n",
    "\n",
    "import time\n",
    "\n",
    "def execution_time(func):\n",
    "    def wrapper(*args, **kwargs):\n",
    "        start_time = time.time()\n",
    "        result = func(*args, **kwargs)\n",
    "        end_time = time.time()\n",
    "        print(f\"Execution time: {end_time - start_time:.4f} seconds\")\n",
    "        return result\n",
    "    return wrapper\n",
    "\n",
    "# Example usage:\n",
    "@execution_time\n",
    "def example_function():\n",
    "    time.sleep(2)\n",
    "    print(\"Function executed\")\n",
    "\n",
    "example_function()"
   ]
  },
  {
   "cell_type": "code",
   "execution_count": null,
   "metadata": {},
   "outputs": [],
   "source": [
    "#13. Explain the concept of the Diamond Problem in multiple inheritance. How does Python resolve it?\n",
    "#Answer:\n",
    "#The Diamond Problem occurs in multiple inheritance when a class inherits from two classes that have a common base class, causing ambiguity in the method resolution order.\n",
    "#Python resolves this using the C3 Linearization algorithm, which determines the Method Resolution Order (MRO).\n",
    "#Example:\n",
    "\n",
    "class A:\n",
    "    def method(self):\n",
    "        print(\"Method in A\")\n",
    "\n",
    "class B(A):\n",
    "    def method(self):\n",
    "        print(\"Method in B\")\n",
    "\n",
    "class C(A):\n",
    "    def method(self):\n",
    "        print(\"Method in C\")\n",
    "\n",
    "class D(B, C):\n",
    "    pass\n",
    "\n",
    "obj = D()\n",
    "obj.method()  # Output: Method in B (MRO is B -> C -> A)\n",
    "print(D.mro())  # Output: [D, B, C, A, object]"
   ]
  },
  {
   "cell_type": "code",
   "execution_count": 35,
   "metadata": {},
   "outputs": [
    {
     "name": "stdout",
     "output_type": "stream",
     "text": [
      "Instances created: 2\n"
     ]
    }
   ],
   "source": [
    "#14. Write a class method that keeps track of the number of instances created from a class.\n",
    "#Answer:\n",
    "\n",
    "class InstanceCounter:\n",
    "    instance_count = 0\n",
    "\n",
    "    def __init__(self):\n",
    "        InstanceCounter.instance_count += 1\n",
    "\n",
    "    @classmethod\n",
    "    def get_instance_count(cls):\n",
    "        return cls.instance_count\n",
    "\n",
    "# Example usage:\n",
    "obj1 = InstanceCounter()\n",
    "obj2 = InstanceCounter()\n",
    "print(f\"Instances created: {InstanceCounter.get_instance_count()}\")"
   ]
  },
  {
   "cell_type": "code",
   "execution_count": 36,
   "metadata": {},
   "outputs": [
    {
     "name": "stdout",
     "output_type": "stream",
     "text": [
      "True\n",
      "False\n",
      "True\n"
     ]
    }
   ],
   "source": [
    "#15. Implement a static method in a class that checks if a given year is a leap year.\n",
    "#Answer:\n",
    "\n",
    "class YearUtility:\n",
    "    @staticmethod\n",
    "    def is_leap_year(year):\n",
    "        if (year % 4 == 0 and year % 100 != 0) or (year % 400 == 0):\n",
    "            return True\n",
    "        return False\n",
    "\n",
    "# Example usage:\n",
    "print(YearUtility.is_leap_year(2020))  # Output: True\n",
    "print(YearUtility.is_leap_year(1900))  # Output: False\n",
    "print(YearUtility.is_leap_year(2000))  # Output: True"
   ]
  }
 ],
 "metadata": {
  "kernelspec": {
   "display_name": "base",
   "language": "python",
   "name": "python3"
  },
  "language_info": {
   "codemirror_mode": {
    "name": "ipython",
    "version": 3
   },
   "file_extension": ".py",
   "mimetype": "text/x-python",
   "name": "python",
   "nbconvert_exporter": "python",
   "pygments_lexer": "ipython3",
   "version": "3.12.4"
  }
 },
 "nbformat": 4,
 "nbformat_minor": 2
}
