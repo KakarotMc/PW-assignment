{
  "nbformat": 4,
  "nbformat_minor": 0,
  "metadata": {
    "colab": {
      "provenance": []
    },
    "kernelspec": {
      "name": "python3",
      "display_name": "Python 3"
    },
    "language_info": {
      "name": "python"
    }
  },
  "cells": [
    {
      "cell_type": "markdown",
      "source": [
        "1. Explain the purpose and advantages of NumPy in scientific computing and data analysis. How does it enhance Python's capabilities for numerical operations?\n",
        "\n",
        "1A : NumPy is a powerful library for scientific computing in Python, offering multi-dimensional arrays and high-performance mathematical operations.\n",
        "\n",
        "Advantages:\n",
        "Faster computations because of C-optimized code.\n",
        "Memory-efficient storage for large datasets.\n",
        "Rich functionality for linear algebra, statistics, and more.\n",
        "Seamless integration with libraries like Pandas and Matplotlib.\n",
        "Enhancement:\n",
        "it provides support for efficient numerical operations, multi-dimensional data, and scalability, which are absent in standard Python.\n",
        "\n",
        "2. Compare and contrast np.mean() and np.average() functions in NumPy. When would you use one over the other?\n",
        "\n",
        "2A - np.mean(): Calculates the arithmetic mean where all elements are equally weighted.\n",
        "np.average(): Calculates the weighted average if weights are provided; defaults to arithmetic mean otherwise.\n",
        "Use Case:\n",
        "Use np.mean() for simple averages and np.average() for weighted computations.\n",
        "\n",
        "\n",
        "3. Describe the methods for reversing a NumPy array along different axes. Provide examples for 1D and 2D arrays.\n",
        "\n",
        "3A - 1D Array: Use slicing [::-1] to reverse.\n",
        "\n",
        "import numpy as np\n",
        "array = np.array([1, 2, 3])\n",
        "print(array[::-1])\n",
        " Output: [3 2 1]\n",
        "\n",
        "2D Array: Reverse along rows or columns using slicing.\n",
        "array = np.array([[1, 2], [3, 4]])\n",
        "print(array[::-1, :])  \n",
        "print(array[:, ::-1])  \n",
        "\n",
        "4. How can you determine the data type of elements in a NumPy array? Discuss the importance of data types in memory management and performance.\n",
        "\n",
        "4A - Use array.dtype to check the data type.\n",
        "\n",
        "Importance:\n",
        "Memory Management: Proper data types reduce memory usage (e.g., float32 vs. float64).\n",
        "Performance: Smaller data types improve computation speed for large datasets.\n",
        "\n",
        "\n",
        "5. Define ndarrays in NumPy and explain their key features. How do they differ from standard Python lists?\n",
        "5A -\n",
        "\n",
        "ndarray: A multi-dimensional array with fixed-size elements of the same type.\n",
        "Key Features:\n",
        "Efficient element-wise operations.\n",
        "Supports broadcasting.\n",
        "Optimized for performance and memory.\n",
        "Difference from Lists:\n",
        "\n",
        "Lists are heterogeneous and slower, while ndarrays are homogeneous and faster with better numerical capabilities.\n",
        "\n",
        "6. Analyze the performance benefits of NumPy arrays over Python lists for large-scale numerical operations.\n",
        "6A -\n",
        "\n",
        "Vectorization: Eliminates the need for Python loops, improving speed.\n",
        "Memory Efficiency: Arrays store data contiguously, reducing overhead.\n",
        "C-optimization: NumPy is implemented in C for high performance.\n",
        "\n",
        "7. Compare vstack() and hstack() functions in NumPy. Provide examples demonstrating their usage and output.\n",
        "\n",
        "7A -\n",
        "\n",
        "vstack(): Stacks arrays vertically (row-wise).\n",
        "hstack(): Stacks arrays horizontally (column-wise).\n",
        "Example:\n",
        "\n",
        "a = np.array([1, 2])\n",
        "b = np.array([3, 4])\n",
        "print(np.vstack((a, b)))  Output: [[1, 2], [3, 4]]\n",
        "print(np.hstack((a, b)))  Output: [1, 2, 3, 4]\n",
        "\n",
        "\n",
        "8. Explain the differences between fliplr() and flipud() methods in NumPy, including their effects on various array dimensions.\n",
        "\n",
        "8A -fliplr(): Reverses elements along columns (left to right).\n",
        "flipud(): Reverses elements along rows (up to down).\n",
        "Example:\n",
        "\n",
        "\n",
        "array = np.array([[1, 2], [3, 4]])\n",
        "print(np.fliplr(array))   \n",
        "\n",
        "Output: [[2, 1], [4, 3]]\n",
        "\n",
        "print(np.flipud(array))   \n",
        "\n",
        "Output: [[3, 4], [1, 2]]\n",
        "\n",
        "9. Discuss the functionality of the array_split() method in NumPy. How does it handle uneven splits?\n",
        "\n",
        "9A -\n",
        "array_split() divides an array into sub-arrays, handling uneven splits by creating smaller arrays.\n",
        "Example:\n",
        "\n",
        "array = np.array([1, 2, 3, 4, 5])\n",
        "print(np.array_split(array, 3))\n",
        "\n",
        "Output: [array([1, 2]), array([3, 4]), array([5])]\n",
        "10. Explain the concepts of vectorization and broadcasting in NumPy. How do they contribute to efficient array operations?\n",
        "\n",
        "10 A - Vectorization: Replaces loops with array operations for speed.\n",
        "\n",
        "a = np.array([1, 2, 3])\n",
        "print(a + 2)\n",
        "\n",
        "Output: [3, 4, 5]\n",
        "\n",
        "\n",
        "Broadcasting: Aligns arrays of different shapes for operations.\n",
        "\n",
        "a = np.array([[1, 2], [3, 4]])\n",
        "b = np.array([10, 20])\n",
        "print(a + b)\n",
        "\n",
        "Output: [[11, 22], [13, 24]]\n",
        "Both techniques enhance performance and reduce code complexity."
      ],
      "metadata": {
        "id": "k-o7aYfnHekJ"
      }
    },
    {
      "cell_type": "code",
      "source": [
        "#1 Create a 3x3 NumPy array with random integers between 1 and 100. Then, interchange its rows and columns\n",
        "\n",
        "import numpy as np\n",
        "a = np.random.randint(1,100,size=(3,3))\n",
        "print('original array - ',a)\n",
        "\n",
        "ta = np.transpose(a)\n",
        "print('Transpose array - ', ta)\n"
      ],
      "metadata": {
        "id": "JcZuu1GnL-WA",
        "colab": {
          "base_uri": "https://localhost:8080/"
        },
        "outputId": "0c958163-a8c7-48a8-882a-0fd1a32903cf"
      },
      "execution_count": 11,
      "outputs": [
        {
          "output_type": "stream",
          "name": "stdout",
          "text": [
            "original array -  [[90 70 43]\n",
            " [40 68 57]\n",
            " [48 34 76]]\n",
            "Transpose array -  [[90 40 48]\n",
            " [70 68 34]\n",
            " [43 57 76]]\n"
          ]
        }
      ]
    },
    {
      "cell_type": "code",
      "source": [
        "#2 Generate a 1D NumPy array with 10 elements. Reshape it into a 2x5 array, then into a 5x2 array.\n",
        "\n",
        "b = np.random.randint(1,100, size = (10))\n",
        "print('original array - ',b)\n",
        "\n",
        "br = b.reshape(2,5)\n",
        "print('after reshaping into a 2*5 array - ',br)\n",
        "\n",
        "br1 = br.reshape(5,2)\n",
        "print('then again reshaping into 5*2 array - ',br1)"
      ],
      "metadata": {
        "colab": {
          "base_uri": "https://localhost:8080/"
        },
        "id": "Pp-0sOW_e610",
        "outputId": "48907e0e-e84d-4776-b240-2f8b1f26086b"
      },
      "execution_count": 15,
      "outputs": [
        {
          "output_type": "stream",
          "name": "stdout",
          "text": [
            "original array -  [13 82 16 78 74 81 87 21 26 55]\n",
            "after reshaping into a 2*5 array -  [[13 82 16 78 74]\n",
            " [81 87 21 26 55]]\n",
            "then again reshaping into 5*2 array -  [[13 82]\n",
            " [16 78]\n",
            " [74 81]\n",
            " [87 21]\n",
            " [26 55]]\n"
          ]
        }
      ]
    },
    {
      "cell_type": "code",
      "source": [
        "#3 Create a 4x4 NumPy array with random float values. Add a border of zeros around it, resulting in a 6x6 array.\n",
        "\n",
        "fa = np.random.rand(4,4)\n",
        "fa1 = np.pad(fa, pad_width=1, mode= 'constant',constant_values = 0 )\n",
        "print(fa1)\n",
        "\n"
      ],
      "metadata": {
        "colab": {
          "base_uri": "https://localhost:8080/"
        },
        "id": "Ts8R7D2uhdKv",
        "outputId": "3d215f82-8c65-49dd-8c76-cf6edbfc1631"
      },
      "execution_count": 19,
      "outputs": [
        {
          "output_type": "stream",
          "name": "stdout",
          "text": [
            "[[0.         0.         0.         0.         0.         0.        ]\n",
            " [0.         0.99217532 0.7876693  0.45718257 0.00895223 0.        ]\n",
            " [0.         0.47238548 0.04907034 0.92868558 0.35031703 0.        ]\n",
            " [0.         0.86030895 0.2931711  0.08431793 0.83513718 0.        ]\n",
            " [0.         0.17799439 0.31308545 0.14040634 0.88360363 0.        ]\n",
            " [0.         0.         0.         0.         0.         0.        ]]\n"
          ]
        }
      ]
    },
    {
      "cell_type": "code",
      "source": [
        "#4 Using NumPy, create an array of integers from 10 to 60 with a step of 5.\n",
        "\n",
        "c = np.arange(10,60,5)\n",
        "print(c)\n"
      ],
      "metadata": {
        "colab": {
          "base_uri": "https://localhost:8080/"
        },
        "id": "J81glL37lMxh",
        "outputId": "3c9a7a0e-8b0a-46fd-b171-24a53f04173e"
      },
      "execution_count": 20,
      "outputs": [
        {
          "output_type": "stream",
          "name": "stdout",
          "text": [
            "[10 15 20 25 30 35 40 45 50 55]\n"
          ]
        }
      ]
    },
    {
      "cell_type": "code",
      "source": [
        "#5 Create a NumPy array of strings ['python', 'numpy', 'pandas']. Apply different case transformations\n",
        "#(uppercase, lowercase, title case, etc.) to each element.\n",
        "\n",
        "d = np.array (['python', 'numpy', 'pandas'])\n",
        "print(d)\n",
        "d1 = np.char.upper(d)\n",
        "print(d1)\n",
        "\n",
        "d2 = np.char.lower(d1)\n",
        "print(d2)\n",
        "\n",
        "d3 = np.char.title(d2)\n",
        "print(d3)"
      ],
      "metadata": {
        "colab": {
          "base_uri": "https://localhost:8080/"
        },
        "id": "XSGVXTSLlY0o",
        "outputId": "48a6051c-f224-4352-e42e-1a2c8da313aa"
      },
      "execution_count": 26,
      "outputs": [
        {
          "output_type": "stream",
          "name": "stdout",
          "text": [
            "['python' 'numpy' 'pandas']\n",
            "['PYTHON' 'NUMPY' 'PANDAS']\n",
            "['python' 'numpy' 'pandas']\n",
            "['Python' 'Numpy' 'Pandas']\n"
          ]
        }
      ]
    },
    {
      "cell_type": "code",
      "source": [
        "#6 Generate a NumPy array of words. Insert a space between each character of every word in the array.\n",
        "\n",
        "w = np.array(['hello', 'pw', 'how', 'are', 'you'])\n",
        "print('original array - ',w)\n",
        "\n",
        "wns = np.char.join(' ',w)\n",
        "print('array with space between words - ' , wns)"
      ],
      "metadata": {
        "colab": {
          "base_uri": "https://localhost:8080/"
        },
        "id": "5O6WobenmGZs",
        "outputId": "ebcad4db-c41c-4428-9bf8-edec50fe4578"
      },
      "execution_count": 28,
      "outputs": [
        {
          "output_type": "stream",
          "name": "stdout",
          "text": [
            "original array -  ['hello' 'pw' 'how' 'are' 'you']\n",
            "array with space between words -  ['h e l l o' 'p w' 'h o w' 'a r e' 'y o u']\n"
          ]
        }
      ]
    },
    {
      "cell_type": "code",
      "source": [
        "# 7 Create two 2D NumPy arrays and perform element-wise addition, subtraction, multiplication, and division.\n",
        "\n",
        "m = np.random.randint(1,10, size = (2,2))\n",
        "r = np.random.randint(2,20, size = (2,2))\n",
        "print(m)\n",
        "print(r)\n",
        "\n",
        "print('addition - ', np.add(m,r))\n",
        "print('subtraction - ', np.subtract(m,r))\n",
        "print('multiplication - ', np.multiply(m,r))\n",
        "print('division - ', np.divide(m,r))"
      ],
      "metadata": {
        "colab": {
          "base_uri": "https://localhost:8080/"
        },
        "id": "ug0HQQ13nnh9",
        "outputId": "bd0c2fd6-d62c-4a6e-ed50-55ce89483d74"
      },
      "execution_count": 39,
      "outputs": [
        {
          "output_type": "stream",
          "name": "stdout",
          "text": [
            "[[9 1]\n",
            " [4 6]]\n",
            "[[ 7  5]\n",
            " [12  4]]\n",
            "addition -  [[16  6]\n",
            " [16 10]]\n",
            "subtraction -  [[ 2 -4]\n",
            " [-8  2]]\n",
            "multiplication -  [[63  5]\n",
            " [48 24]]\n",
            "division -  [[1.28571429 0.2       ]\n",
            " [0.33333333 1.5       ]]\n"
          ]
        }
      ]
    },
    {
      "cell_type": "code",
      "source": [
        "# 8 Use NumPy to create a 5x5 identity matrix, then extract its diagonal elements.\n",
        "\n",
        "t = np.eye(5)\n",
        "print(t)\n",
        "td = np.diag(t)\n",
        "print(td)"
      ],
      "metadata": {
        "colab": {
          "base_uri": "https://localhost:8080/"
        },
        "id": "w_Q1hbTAnoHP",
        "outputId": "490455f6-c738-4c5b-da7d-703615a13b28"
      },
      "execution_count": 41,
      "outputs": [
        {
          "output_type": "stream",
          "name": "stdout",
          "text": [
            "[[1. 0. 0. 0. 0.]\n",
            " [0. 1. 0. 0. 0.]\n",
            " [0. 0. 1. 0. 0.]\n",
            " [0. 0. 0. 1. 0.]\n",
            " [0. 0. 0. 0. 1.]]\n",
            "[1. 1. 1. 1. 1.]\n"
          ]
        }
      ]
    },
    {
      "cell_type": "code",
      "source": [
        "#9 Generate a NumPy array of 100 random integers between 0 and 1000. Find and display all prime numbers in this array.\n",
        "\n",
        "p = np.random.randint(0,1000, size = (100))\n",
        "print(p)\n",
        "pn = [\n",
        "    num for num in p\n",
        "    if num > 1 and all(num % i != 0 for i in range(2, int(np.sqrt(num)) + 1))\n",
        "]\n",
        "print(pn)\n"
      ],
      "metadata": {
        "colab": {
          "base_uri": "https://localhost:8080/"
        },
        "id": "K3Wv-SzxnprL",
        "outputId": "de71239b-dfe8-414f-fb74-2ac002ba65c6"
      },
      "execution_count": 45,
      "outputs": [
        {
          "output_type": "stream",
          "name": "stdout",
          "text": [
            "[525 860 231 265 419 282 264 848  29 365 864 651 392 672 932 133 810 907\n",
            " 734 466 131 185 535  10 162 605 608 496 881 309 187 236 533 298 670 765\n",
            " 230 920 579 524  70 650 511 614 387 674 928 955 480 385 980 350 860 298\n",
            " 889 337 553 778 517 829 101 942  39 169 670 699  43 584  70 703 857 499\n",
            " 194 415 333 813 371 860 570   6 273 707 871 300 608 221 117 537 614 469\n",
            "   1  46 398 727 645 914 239 742 632 981]\n",
            "[419, 29, 907, 131, 881, 337, 829, 101, 43, 857, 499, 727, 239]\n"
          ]
        }
      ]
    },
    {
      "cell_type": "code",
      "source": [
        "# 10Create a NumPy array representing daily temperatures for a month. Calculate and display the weekly averages.\n",
        "\n",
        "dt = np.random.randint(20,35 ,size = (30))\n",
        "\n",
        "wa = [np.mean(dt[i:i+7]) for i in range(0, len(dt), 7)]\n",
        "\n",
        "print('weekly averages are - ',wa)\n",
        "\n",
        "\n"
      ],
      "metadata": {
        "colab": {
          "base_uri": "https://localhost:8080/"
        },
        "id": "Yxzu6RqBnqo3",
        "outputId": "2f460fbd-eb1d-4bef-eb63-edb48ed6c65f"
      },
      "execution_count": 59,
      "outputs": [
        {
          "output_type": "stream",
          "name": "stdout",
          "text": [
            "weekly averages are -  [28.0, 25.142857142857142, 27.0, 27.857142857142858, 30.0]\n"
          ]
        }
      ]
    },
    {
      "cell_type": "code",
      "source": [],
      "metadata": {
        "id": "rWRty6uxnrAq"
      },
      "execution_count": null,
      "outputs": []
    }
  ]
}